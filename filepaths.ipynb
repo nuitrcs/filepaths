{
 "cells": [
  {
   "cell_type": "markdown",
   "id": "2f1f8ac2-37c6-4098-913a-6309ac53f848",
   "metadata": {},
   "source": [
    "# Managing file paths with pathlib"
   ]
  },
  {
   "cell_type": "markdown",
   "id": "67b3cb59-208b-4035-a32a-6e593d8eb17d",
   "metadata": {},
   "source": [
    "<br>*Reminder: click in a code cell and type shift+return (shift+enter on a PC) to run a code cell.*"
   ]
  },
  {
   "cell_type": "markdown",
   "id": "dca331ff-3a34-4129-8fe8-8b893bbfb2c3",
   "metadata": {},
   "source": [
    "<br>To **read** and **write** files, we have to give the computer a **file path** so the computer knows: \n",
    "- where to get or put the file\n",
    "- what the file is called or what it should be called\n",
    "- what the file extension is or should be"
   ]
  },
  {
   "cell_type": "markdown",
   "id": "9fdabdc2-0c0d-41f8-9e7a-1d914a89d011",
   "metadata": {},
   "source": [
    "If the file to read is in our **current working directory** (or if we want to write the file to our **current working directory**), our file path can just be the file name and extension - my_file.txt. When working in a Jupyter Notebook like this, the current working directory is the directory where this notebook is saved (though you can change the working directory in your code if you need to)."
   ]
  },
  {
   "cell_type": "markdown",
   "id": "4f60fa4d-98cf-4ccc-9de0-93b62968d0bc",
   "metadata": {},
   "source": [
    "### <br><br>Saving the file path as a string\n",
    "You can save a file path as a string."
   ]
  },
  {
   "cell_type": "code",
   "execution_count": null,
   "id": "31ff5394-3f89-4e5f-a92a-16d5fd24c801",
   "metadata": {},
   "outputs": [],
   "source": [
    "PC_filepath = \"sample_data\\anscombe.json\"\n",
    "Mac_filepath = \"sample_data/anscombe.json\""
   ]
  },
  {
   "cell_type": "markdown",
   "id": "04871ea5-0ef6-4c46-9793-5257ff5c3a52",
   "metadata": {},
   "source": [
    "<br>Run the cell above to save the file path as a string using both PC and Mac formatting. Then run the two chunks below. **Which code chunk works for you? Let us know in the Zoom chat.**"
   ]
  },
  {
   "cell_type": "markdown",
   "id": "cc8f8592-82f1-4c67-9a20-67a8ec51c7eb",
   "metadata": {},
   "source": [
    "**Code chunk 1: PC file path**"
   ]
  },
  {
   "cell_type": "code",
   "execution_count": null,
   "id": "3ea0df59-18f6-4c44-b3fc-eb34611b7ee1",
   "metadata": {},
   "outputs": [],
   "source": [
    "with open(PC_filepath, \"r\") as f:\n",
    "    print(f.read())"
   ]
  },
  {
   "cell_type": "markdown",
   "id": "97c587e6-2a62-45ff-b658-55fa78f15d56",
   "metadata": {},
   "source": [
    "<br>**Code chunk 2: Mac and Linux file path**"
   ]
  },
  {
   "cell_type": "code",
   "execution_count": null,
   "id": "60eb7ba0-c687-4043-9ab9-1407e532fdde",
   "metadata": {},
   "outputs": [],
   "source": [
    "with open(Mac_filepath, \"r\") as f:\n",
    "    print(f.read())"
   ]
  },
  {
   "cell_type": "markdown",
   "id": "fb7c825a-98e9-4108-9734-6241a538bd8a",
   "metadata": {},
   "source": [
    "<br>You never know when you'll need to run your code on a different OS, or someone who inherits your code may have a different OS."
   ]
  },
  {
   "cell_type": "markdown",
   "id": "d06355d0-a3b6-4471-8912-57d735cdfcf9",
   "metadata": {},
   "source": [
    "#### <br><br>Exercise 1."
   ]
  },
  {
   "cell_type": "markdown",
   "id": "0e54a3e7-f06e-4154-a8a4-9eb102df430b",
   "metadata": {},
   "source": [
    "Run the cell below to store this file path as a string. It uses PC formatting of backslashes instead of forward slashes.    *Note: PC users also often put spaces in their folder and file names; spaces are a real pain when you work on the command line - stop using them now, please!*"
   ]
  },
  {
   "cell_type": "code",
   "execution_count": null,
   "id": "0db48756-9393-4e5d-b64a-a78625170ba4",
   "metadata": {},
   "outputs": [],
   "source": [
    "PC_example = \"~\\data\\experiments\\October 05 22\\first run\\results.txt\""
   ]
  },
  {
   "cell_type": "markdown",
   "id": "74fbfefd-1a5a-4c08-b921-894e2d1ca8be",
   "metadata": {},
   "source": [
    "<br> Using what you know about string formatting, write code to change the backslashes to forward slashes in the `PC_example` file path so that the code will work on a Mac."
   ]
  },
  {
   "cell_type": "code",
   "execution_count": null,
   "id": "207b3aff-6119-47f7-9196-4b7edb1162f7",
   "metadata": {},
   "outputs": [],
   "source": []
  },
  {
   "cell_type": "markdown",
   "id": "049a9c41-b1f3-4da5-95f7-40abee4e3d13",
   "metadata": {},
   "source": [
    "<br>Run the cell below to store this Mac file path as a string. Macs allow you to use a backslash in the file name."
   ]
  },
  {
   "cell_type": "code",
   "execution_count": null,
   "id": "d58d3225-c6a0-4858-b073-3adcb6929348",
   "metadata": {},
   "outputs": [],
   "source": [
    "Mac_example = \"~/data/experiments/October_5\\6_2022/first_run/results.txt\""
   ]
  },
  {
   "cell_type": "markdown",
   "id": "d58928c1-3e6e-4ae0-b078-e9a52c408a41",
   "metadata": {},
   "source": [
    "<br> Write code to make `Mac_example` PC friendly. You'll need to replace the forward slashes with backslashes and you'll need to add the Python escape character in front of the existing backslash so that the PC computer won't interpret it as new directory. "
   ]
  },
  {
   "cell_type": "code",
   "execution_count": null,
   "id": "4911d425-af2d-4ccd-a23b-9961ad6bf366",
   "metadata": {},
   "outputs": [],
   "source": []
  },
  {
   "cell_type": "markdown",
   "id": "55a270a2-8dec-48dd-a311-0775110cf062",
   "metadata": {},
   "source": [
    "### <br><br><br>The Path object\n",
    "A file path can be saved as a string, but it isn't just a string. It has unique properties that make it special - it's an object on its own. The **pathlib** module contains a Python **object** called **Path** that has its own **attributes** and **method functions** that are unique to the Path object. "
   ]
  },
  {
   "cell_type": "markdown",
   "id": "c2f8b630-c597-4cb2-b51e-3fb4bd0d2e89",
   "metadata": {},
   "source": [
    "<br>*Note: There are other text characters that can be stored as strings but have earned their own status as unique objects, like dates and times in the datetime package or gene sequences in the Biopython package. If you have special objects in your research, you can even define your own object classes - we'll cover that later this quarter.*"
   ]
  },
  {
   "cell_type": "markdown",
   "id": "1d488dc4-120e-4021-9054-f833eb75d993",
   "metadata": {},
   "source": [
    "<br>There are other packages you can use to get some of the features of pathlib, but pathlib is the best package for working with files and file names."
   ]
  },
  {
   "cell_type": "markdown",
   "id": "da51cacd-4b1e-4c47-836d-3fba4cd167af",
   "metadata": {},
   "source": [
    "<br><br>**pathlib** is a built-in Python package, so you don't have to **install** it. This means it is included with every installation of Python, but it isn't automatically loaded into your notebook - you need to **import** it first. To avoid having to type pathlib.Path everytime we want to use the Path object, we're going to do what most Python coders do, and import only the Path object:"
   ]
  },
  {
   "cell_type": "code",
   "execution_count": null,
   "id": "b7b62057-3617-41a6-9e37-3869e57a1b5a",
   "metadata": {},
   "outputs": [],
   "source": [
    "from pathlib import Path"
   ]
  },
  {
   "cell_type": "markdown",
   "id": "90c965fc-7eb7-4a84-8ca3-44d4e84d23b9",
   "metadata": {},
   "source": [
    "<br><br>Before we start using the Path object, there's one more Python trick you should learn. Consider this a bonus lesson! "
   ]
  },
  {
   "cell_type": "markdown",
   "id": "3ea32f98-a22e-4d25-b5b6-dea8a28865a4",
   "metadata": {},
   "source": [
    "#### raw string literal"
   ]
  },
  {
   "cell_type": "markdown",
   "id": "e592c680-2a23-48e3-a80b-1ed6fd2baabf",
   "metadata": {},
   "source": [
    "A raw string literal is a string that *does not interpret any special characters*."
   ]
  },
  {
   "cell_type": "markdown",
   "id": "3ddc7a39-0b65-4c90-bb61-622f40a113e3",
   "metadata": {},
   "source": [
    "**Regular string**"
   ]
  },
  {
   "cell_type": "code",
   "execution_count": null,
   "id": "2c78b1b5-7021-41bc-9d9a-30c230d8dee4",
   "metadata": {},
   "outputs": [],
   "source": [
    "print(\"This is line 1.\\nThis is line 2.\")"
   ]
  },
  {
   "cell_type": "markdown",
   "id": "7f3e6c95-3b58-4588-8346-b3e53c013770",
   "metadata": {},
   "source": [
    "**Raw string literal**"
   ]
  },
  {
   "cell_type": "code",
   "execution_count": null,
   "id": "0e9d6177-6f44-47de-8df3-a68f9b77cbfa",
   "metadata": {},
   "outputs": [],
   "source": [
    "print(r\"This is line1.\\nThis is line 2.\")"
   ]
  },
  {
   "cell_type": "markdown",
   "id": "4660b4d2-bfd0-4c0f-95ae-6efe3cd2024a",
   "metadata": {},
   "source": [
    "You tell Python that you're making a raw string literal by putting a lower case `r` directly in front of the opening quotation mark of your string. "
   ]
  },
  {
   "cell_type": "markdown",
   "id": "119c3c2d-687e-47ad-b811-b10b60f7128e",
   "metadata": {},
   "source": [
    "<br><br>The raw string literal comes in handy when writing PC file paths, so that you don't have to worry about those backslashes, which Python interprets as an escape character."
   ]
  },
  {
   "cell_type": "markdown",
   "id": "1eceafb1-9329-4eb8-ab24-f29770b2d64e",
   "metadata": {},
   "source": [
    "**Regular string**"
   ]
  },
  {
   "cell_type": "code",
   "execution_count": null,
   "id": "ebd2409d-70de-4452-b09c-2b1ce5ff4d9d",
   "metadata": {},
   "outputs": [],
   "source": [
    "print(\"~\\data\\newspaper_articles\\tribune\\02031918.pdf\")"
   ]
  },
  {
   "cell_type": "markdown",
   "id": "66a8b40e-4ddf-4f19-89f2-23b42a2bcfeb",
   "metadata": {},
   "source": [
    "**Raw string literal**"
   ]
  },
  {
   "cell_type": "code",
   "execution_count": null,
   "id": "40670ff6-0f61-4d22-82a1-c6042a13bf06",
   "metadata": {},
   "outputs": [],
   "source": [
    "print(r\"~\\data\\newspaper_articles\\tribune\\02031918.pdf\")"
   ]
  },
  {
   "cell_type": "markdown",
   "id": "b527b44a-4b0d-44fc-820c-6ef612057168",
   "metadata": {},
   "source": [
    "### <br><br><br> Creating a Path from a string\n",
    "Let's try to read the anscombe.json file again with a Path object instead of a string. The `anscombe.json` file is in the `sample_data` folder. To create a Path object, we will pass a string to the Path function. **Use forward slashes in your string, even if you are on a PC.** If you use forward slashes with the Path function, your path will work on any OS, including your PC. \n",
    "<br><br>Don't think of it as \"using Mac formatting\". If you get in the habit of always using Path in all your Python code (recommended) and using forward slashes, you can think of it just as \"using Python formatting\". In reality, it's a format called Posix. From Wikipedia: \"The Portable Operating System Interface (POSIX) is a family of standards specified by the IEEE Computer Society for maintaining compatibility between operating systems.\""
   ]
  },
  {
   "cell_type": "code",
   "execution_count": null,
   "id": "b1cb777e-2fb6-4009-9a5c-d93c04620a5b",
   "metadata": {},
   "outputs": [],
   "source": [
    "anscombe_path = Path(\"sample_data/anscombe.json\")\n",
    "anscombe_path"
   ]
  },
  {
   "cell_type": "markdown",
   "id": "c23a8b51-89e1-40cd-b5ed-12e2d837c1b1",
   "metadata": {},
   "source": [
    "Run the cell above. What did it return to the screen? Copy what it returned and paste it into the Zoom chat."
   ]
  },
  {
   "cell_type": "markdown",
   "id": "663a4ed0-dc09-49cd-a84a-2a6d64e8218a",
   "metadata": {},
   "source": [
    "<br>If you're on a PC, run this code below. (Notice we're using the raw string literal.) What does this one return to the screen? Copy what it returns and paste it into the Zoom chat."
   ]
  },
  {
   "cell_type": "code",
   "execution_count": null,
   "id": "fc27ce8d-addb-45ed-a582-71e37e95b7ea",
   "metadata": {},
   "outputs": [],
   "source": [
    "anscombe_PC_path = Path(r\"sample_data\\anscombe.json\")\n",
    "anscombe_PC_path"
   ]
  },
  {
   "cell_type": "markdown",
   "id": "517b0d27-1817-4209-9482-4d86c64d1d8e",
   "metadata": {},
   "source": [
    "<br>Run the code cell below to view the json object."
   ]
  },
  {
   "cell_type": "code",
   "execution_count": null,
   "id": "81a7dd52-32ab-40d4-b5e6-82d1500d81ee",
   "metadata": {},
   "outputs": [],
   "source": [
    "with open(anscombe_path, \"r\") as f:\n",
    "    print(f.read())"
   ]
  },
  {
   "cell_type": "markdown",
   "id": "4a36a230-6e3d-4317-abb4-5efcbfc46524",
   "metadata": {},
   "source": [
    "#### <br><br>Exercise 2.\n",
    "There is a csv file in the sample_data folder called `california_housing_test.csv`. Write code to create a Path object for this file. "
   ]
  },
  {
   "cell_type": "code",
   "execution_count": null,
   "id": "9a8048c4-f938-4163-a911-d7b1f620182a",
   "metadata": {},
   "outputs": [],
   "source": [
    "cali_path = "
   ]
  },
  {
   "cell_type": "markdown",
   "id": "e3cd3019-bb52-4737-9fe1-28cc69c9d126",
   "metadata": {},
   "source": [
    "<br>If you created the Path object correctly, the following code should print out the first line of the file. We don't want to print the whole file because it is 3,000 lines long."
   ]
  },
  {
   "cell_type": "code",
   "execution_count": null,
   "id": "76c1484c-e441-4154-8a99-b4db6e22fc38",
   "metadata": {},
   "outputs": [],
   "source": [
    "with open(cali_path, \"r\") as f:\n",
    "    print(f.readline())"
   ]
  },
  {
   "cell_type": "markdown",
   "id": "25186eec-895a-404d-a16c-bf2215115bf9",
   "metadata": {},
   "source": [
    "### <br><br>Creating a path by joining together multiple parts\n",
    "We've learned how to solve Problem One from our PowerPoint (Moving code between Operating Systems). Now let's learn how to solve Problem Two (Building file paths to scale up our code). Let's look at the example from the slides and try to handle it in code.\n",
    "<br><br>pathlib has an easy way to combine different pieces into one path: you **use a forward slash to combine Path objects**."
   ]
  },
  {
   "cell_type": "code",
   "execution_count": null,
   "id": "d1b676c1-8cfc-4707-94d9-44f3777fc248",
   "metadata": {},
   "outputs": [],
   "source": [
    "new_path = Path(\"/Users/Colby/Documents/Research/Data\") / Path(\"Survey1.txt\")\n",
    "new_path"
   ]
  },
  {
   "cell_type": "markdown",
   "id": "fad50d8c-4ac8-489e-92a1-87ee6848d5ae",
   "metadata": {},
   "source": [
    "<br>Now we want to create a path for each of the three Survey files."
   ]
  },
  {
   "cell_type": "code",
   "execution_count": null,
   "id": "a00d905d-9b4f-4353-8678-a9c7534cd544",
   "metadata": {},
   "outputs": [],
   "source": [
    "survey_files = [\"Survey1\", \"Survey2\", \"Survey3\"]\n",
    "for i in survey_files:\n",
    "    new_path = Path(\"/Users/Colby/Documents/Research/Data\") / Path(i + \".txt\")\n",
    "    print(new_path)"
   ]
  },
  {
   "cell_type": "markdown",
   "id": "e0e1fb48-72bf-4613-80af-671bffb7946e",
   "metadata": {},
   "source": [
    "<br><br>The Path object also has a method function called `joinpath()`. It is a Path method function, so it always has to go after a Path object."
   ]
  },
  {
   "cell_type": "code",
   "execution_count": null,
   "id": "7705d8e6-aa56-485f-9deb-3feea6a1a431",
   "metadata": {},
   "outputs": [],
   "source": [
    "new_path = Path(\"/Users/Colby/Documents/Research/Data\").joinpath(\"Survey1.txt\")\n",
    "new_path"
   ]
  },
  {
   "cell_type": "code",
   "execution_count": null,
   "id": "1650c7d7-0675-4900-9aa8-3e3d7288a499",
   "metadata": {},
   "outputs": [],
   "source": [
    "survey_files = [\"Survey1\", \"Survey2\", \"Survey3\"]\n",
    "for i in survey_files:\n",
    "    new_path = Path(\"/Users/Colby/Documents/Research/Data\").joinpath(i + \".txt\")\n",
    "    print(new_path)"
   ]
  },
  {
   "cell_type": "markdown",
   "id": "929cdcc8-677a-4d01-8063-9f665a193c3b",
   "metadata": {},
   "source": [
    "<br>`.joinpath()` can also join together multiple pieces of the path. You pass the multiple arguments to the `.joinpath()` method function, separated by commas. The path will be joined in the order given. You still have to start with a Path object because it is a method function."
   ]
  },
  {
   "cell_type": "code",
   "execution_count": null,
   "id": "e604580d-1525-4cc0-8fcb-387456c5cfbe",
   "metadata": {},
   "outputs": [],
   "source": [
    "survey_files = [\"Survey1\", \"Survey2\", \"Survey3\"]\n",
    "for i in survey_files:\n",
    "    new_path = Path(\"/\").joinpath(\"Users\", \"Colby\", \"Documents\", \"Research\", \"Data\", i + \".txt\")\n",
    "    print(new_path)"
   ]
  },
  {
   "cell_type": "markdown",
   "id": "bb9ad86c-0882-486c-ba7d-74ded7eb4cea",
   "metadata": {},
   "source": [
    "#### <br><br>Exercise 3.\n",
    "Let's try to solve the second example. Look at the diagram and fill in the blank on the PowerPoint slide. This time all our files are called Survey.txt, but they are each within a data folder inside a survey folder. There are three Survey folders - I've started the loop for you. You can use `/` or `joinpath`."
   ]
  },
  {
   "cell_type": "code",
   "execution_count": null,
   "id": "0d954d8c-93fb-4bc4-a2ae-bb0cc573c84c",
   "metadata": {},
   "outputs": [],
   "source": [
    "survey_folders = [\"Survey1\", \"Survey2\", \"Survey3\"]\n",
    "for i in survey_folders:\n",
    "    "
   ]
  },
  {
   "cell_type": "code",
   "execution_count": null,
   "id": "d8700a7d-44cf-49f2-aaa4-65bdff59c3ba",
   "metadata": {},
   "outputs": [],
   "source": []
  },
  {
   "cell_type": "markdown",
   "id": "58f8bcf2-0487-42f2-989b-db914d273ebd",
   "metadata": {},
   "source": [
    "### <br><br>Path attributes\n",
    "Attributes hold data specific to each object. Like methods, they follow the object, but they do not use parenthases because they are not functions. Path attributes can return the different pieces of a Path. The `.name` attribute gives us the file name with the extension:"
   ]
  },
  {
   "cell_type": "code",
   "execution_count": null,
   "id": "807df63a-4c3c-496a-8239-732f74df2b8e",
   "metadata": {},
   "outputs": [],
   "source": [
    "my_path = Path(\"/Users/Colby/Documents/Research/Data/Survey1.txt\")"
   ]
  },
  {
   "cell_type": "code",
   "execution_count": null,
   "id": "f50c83f0-38f6-4d5d-8d2c-a70ff287eb05",
   "metadata": {},
   "outputs": [],
   "source": [
    "my_path.name"
   ]
  },
  {
   "cell_type": "markdown",
   "id": "43ba71b9-50ec-41b9-8d89-133fa10ffee1",
   "metadata": {},
   "source": [
    "<br>Try out these attributes on the `my_path` object to see what they do:\n",
    "- .stem\n",
    "- .anchor\n",
    "- .suffix\n",
    "- .parent\n",
    "- .parent.parent\n",
    "- .parts"
   ]
  },
  {
   "cell_type": "code",
   "execution_count": null,
   "id": "0caf677c-cb13-40e9-8555-442f2f4b6029",
   "metadata": {},
   "outputs": [],
   "source": []
  },
  {
   "cell_type": "code",
   "execution_count": null,
   "id": "3630baac-15f0-4673-8e34-5fa5fea69f21",
   "metadata": {},
   "outputs": [],
   "source": []
  },
  {
   "cell_type": "code",
   "execution_count": null,
   "id": "b09aabbf-cc56-4201-aaa7-1cef53699c74",
   "metadata": {},
   "outputs": [],
   "source": []
  },
  {
   "cell_type": "code",
   "execution_count": null,
   "id": "66745eb0-3cdd-4200-b746-4427a81c1aa8",
   "metadata": {},
   "outputs": [],
   "source": []
  },
  {
   "cell_type": "code",
   "execution_count": null,
   "id": "c4d2820d-5b05-4b95-9d24-c264645f3a2c",
   "metadata": {},
   "outputs": [],
   "source": []
  },
  {
   "cell_type": "code",
   "execution_count": null,
   "id": "009b72c6-13dd-4358-8d79-a22b4da55b9e",
   "metadata": {},
   "outputs": [],
   "source": []
  },
  {
   "cell_type": "markdown",
   "id": "90626edb-1e8f-4e52-872e-c1be9f7a2c5d",
   "metadata": {},
   "source": [
    "### <br><br>Path methods\n",
    "The Path object has many other attributes and methods. You can do many things related to opening files inside Python AND related to moving, renaming, and making files and directories in your file system from within Python, without having to leave Python and use the command line. Check out the documentation for pathlib here: https://docs.python.org/3/library/pathlib.html#.\n",
    "<br><br>Here are a few Path methods that might be of interest:"
   ]
  },
  {
   "cell_type": "markdown",
   "id": "8dcf638b-0fa2-4fc2-ace6-78ea92869f41",
   "metadata": {},
   "source": [
    "<br>`.cwd()` will return the file path to your current working directory."
   ]
  },
  {
   "cell_type": "code",
   "execution_count": null,
   "id": "0b2bd2b1-5f38-4e0e-afc2-b787bce00c74",
   "metadata": {},
   "outputs": [],
   "source": [
    "Path.cwd()"
   ]
  },
  {
   "cell_type": "markdown",
   "id": "92f6d294-85e2-42ae-92b6-6312b297be55",
   "metadata": {},
   "source": [
    "<br>`.home()` will return the file path to your home directory."
   ]
  },
  {
   "cell_type": "code",
   "execution_count": null,
   "id": "ba338a9a-22fb-4348-8224-398579015881",
   "metadata": {},
   "outputs": [],
   "source": [
    "Path.home()"
   ]
  },
  {
   "cell_type": "markdown",
   "id": "6b14503a-1eed-4bc9-99bb-4686cfacb5e7",
   "metadata": {},
   "source": [
    "<br>We can use these methods when building file paths, either using the backslash technique or .joinpath(). To create an absolute path to the anscombe.json file, I can do:"
   ]
  },
  {
   "cell_type": "code",
   "execution_count": null,
   "id": "b296131b-8f8f-47fc-b581-8f162dfa16b7",
   "metadata": {},
   "outputs": [],
   "source": [
    "Path.cwd() / Path(\"sample_data/anscombe.json\")"
   ]
  },
  {
   "cell_type": "markdown",
   "id": "1013662f-b2a0-472e-8a30-e4963793daf8",
   "metadata": {},
   "source": [
    "OR"
   ]
  },
  {
   "cell_type": "code",
   "execution_count": null,
   "id": "1f0398de-0ba3-41d1-9a0b-406d0257ec2a",
   "metadata": {},
   "outputs": [],
   "source": [
    "Path.cwd().joinpath(\"sample_data\", \"anscombe.json\")"
   ]
  },
  {
   "cell_type": "markdown",
   "id": "e7dc6691-a233-439a-92a9-4d8b994d43eb",
   "metadata": {},
   "source": [
    "<br>`.exists()` will tell us if a path exists in our file system or not.\n",
    "<br><br>We know that `sample_data/anscombe.json` exists for all of us, and `/Users/Colby/Documents/Research/Data/Survey1.txt` is a made-up path that does not exist for any of us. Let's test this."
   ]
  },
  {
   "cell_type": "code",
   "execution_count": null,
   "id": "2435cac4-0cfb-4393-8803-2d944c1d48d7",
   "metadata": {},
   "outputs": [],
   "source": [
    "Path(\"sample_data/anscombe.json\").exists()"
   ]
  },
  {
   "cell_type": "code",
   "execution_count": null,
   "id": "e30447ae-7375-4686-97ca-3d889576e019",
   "metadata": {},
   "outputs": [],
   "source": [
    "Path(\"/Users/Colby/Documents/Research/Data/Survey1.txt\").exists()"
   ]
  },
  {
   "cell_type": "markdown",
   "id": "be0c334e-e31c-476f-830d-9be04ee259d2",
   "metadata": {},
   "source": [
    "#### <br><br>Exercise 5.\n",
    "Use Path.cwd() to create an absolute file path to the california_housing_test.csv file. Then check to see if that file exists on your laptop or on Google Colab."
   ]
  },
  {
   "cell_type": "code",
   "execution_count": null,
   "id": "c8a33c15-e8a2-4284-ace9-50c07ac1b409",
   "metadata": {},
   "outputs": [],
   "source": []
  },
  {
   "cell_type": "code",
   "execution_count": null,
   "id": "083c403a-0fbf-48da-b44d-c970cb5d497e",
   "metadata": {},
   "outputs": [],
   "source": []
  },
  {
   "cell_type": "markdown",
   "id": "6273c216-ab86-4f58-b985-993fd53f180a",
   "metadata": {},
   "source": [
    "<br><br><br>`.with_stem()`, `with_name()`, and `with_suffix()`"
   ]
  },
  {
   "cell_type": "markdown",
   "id": "e0004515-ea4d-43fe-8993-47b6939e85fd",
   "metadata": {},
   "source": [
    "These methods allow you to change the stem, name, or suffix of your Path object!"
   ]
  },
  {
   "cell_type": "code",
   "execution_count": null,
   "id": "fa59500a-8452-4841-986e-24aff5927237",
   "metadata": {},
   "outputs": [],
   "source": [
    "base_path = Path(\"/Users/Colby/Documents/Research/Data/some_file.txt\")\n",
    "survey_files = [\"Survey1\", \"Survey2\", \"Survey3\"]\n",
    "for i in survey_files:\n",
    "    print(base_path.with_stem(i))"
   ]
  },
  {
   "cell_type": "code",
   "execution_count": null,
   "id": "43f7fa5b-f8c2-4832-85f0-84f9d5f61ac9",
   "metadata": {},
   "outputs": [],
   "source": []
  }
 ],
 "metadata": {
  "kernelspec": {
   "display_name": "Python 3 (ipykernel)",
   "language": "python",
   "name": "python3"
  },
  "language_info": {
   "codemirror_mode": {
    "name": "ipython",
    "version": 3
   },
   "file_extension": ".py",
   "mimetype": "text/x-python",
   "name": "python",
   "nbconvert_exporter": "python",
   "pygments_lexer": "ipython3",
   "version": "3.9.13"
  }
 },
 "nbformat": 4,
 "nbformat_minor": 5
}
